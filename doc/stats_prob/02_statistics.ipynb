{
 "cells": [
  {
   "cell_type": "code",
   "execution_count": 1,
   "id": "a02e4638",
   "metadata": {},
   "outputs": [],
   "source": [
    "import numpy as np"
   ]
  },
  {
   "cell_type": "code",
   "execution_count": null,
   "id": "a925889a",
   "metadata": {},
   "outputs": [
    {
     "data": {
      "text/plain": [
       "4.5"
      ]
     },
     "execution_count": 9,
     "metadata": {},
     "output_type": "execute_result"
    }
   ],
   "source": [
    "vector = [ 3, 1, 3, 5, 6, 2, 5, 6, 8, 2, 4, 7, 9, 2 ]\n",
    "mean = sum(vector)/len(vector)\n",
    "mean\n"
   ]
  },
  {
   "cell_type": "code",
   "execution_count": null,
   "id": "7d358d7e",
   "metadata": {},
   "outputs": [],
   "source": [
    "import statistics # More details at https://docs.python.org/3/library/statistics.html"
   ]
  },
  {
   "cell_type": "code",
   "execution_count": 19,
   "id": "a89ea78a",
   "metadata": {},
   "outputs": [
    {
     "name": "stdout",
     "output_type": "stream",
     "text": [
      "4.5\n",
      "4.5\n",
      "2\n",
      "8\n",
      "2.472930370104386\n",
      "6.115384615384615\n"
     ]
    }
   ],
   "source": [
    "print(statistics.mean(vector))\n",
    "print(statistics.median(vector))\n",
    "print(statistics.mode(vector))\n",
    "print(max(vector) - min(vector))\n",
    "print(statistics.stdev(vector))\n",
    "print(statistics.variance(vector))"
   ]
  },
  {
   "cell_type": "code",
   "execution_count": 23,
   "id": "49b14b37",
   "metadata": {},
   "outputs": [],
   "source": [
    "import seaborn as sns\n",
    "import matplotlib.pyplot as plt"
   ]
  },
  {
   "cell_type": "code",
   "execution_count": 24,
   "id": "55641b77",
   "metadata": {},
   "outputs": [
    {
     "data": {
      "image/png": "[encoded data removed]",
      "text/plain": [
       "<Figure size 640x480 with 1 Axes>"
      ]
     },
     "metadata": {},
     "output_type": "display_data"
    }
   ],
   "source": [
    "sns.boxplot(y = vector)\n",
    "plt.show()"
   ]
  },
  {
   "cell_type": "code",
   "execution_count": null,
   "id": "d39ae72e",
   "metadata": {},
   "outputs": [],
   "source": []
  }
 ],
 "metadata": {
  "kernelspec": {
   "display_name": "the-universe",
   "language": "python",
   "name": "python3"
  },
  "language_info": {
   "codemirror_mode": {
    "name": "ipython",
    "version": 3
   },
   "file_extension": ".py",
   "mimetype": "text/x-python",
   "name": "python",
   "nbconvert_exporter": "python",
   "pygments_lexer": "ipython3",
   "version": "3.10.12"
  }
 },
 "nbformat": 4,
 "nbformat_minor": 5
}
