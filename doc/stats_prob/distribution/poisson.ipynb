{
 "cells": [
  {
   "cell_type": "code",
   "execution_count": 24,
   "id": "7a6b1e3f",
   "metadata": {},
   "outputs": [],
   "source": [
    "import numpy as np\n",
    "import matplotlib.pyplot as plt\n",
    "import seaborn as sns"
   ]
  },
  {
   "cell_type": "code",
   "execution_count": 25,
   "id": "ba76a527",
   "metadata": {},
   "outputs": [
    {
     "data": {
      "text/plain": [
       "3"
      ]
     },
     "execution_count": 25,
     "metadata": {},
     "output_type": "execute_result"
    }
   ],
   "source": [
    "# You can get a sample only passing the mean\n",
    "np.random.poisson(3.6)"
   ]
  },
  {
   "cell_type": "code",
   "execution_count": 26,
   "id": "e82fa996",
   "metadata": {},
   "outputs": [],
   "source": [
    "a = np.random.poisson(3.6, 10000)"
   ]
  },
  {
   "cell_type": "code",
   "execution_count": 27,
   "id": "37c2fd78",
   "metadata": {},
   "outputs": [
    {
     "name": "stderr",
     "output_type": "stream",
     "text": [
      "/tmp/ipykernel_666097/510275914.py:1: FutureWarning: \n",
      "\n",
      "Passing `palette` without assigning `hue` is deprecated and will be removed in v0.14.0. Assign the `x` variable to `hue` and set `legend=False` for the same effect.\n",
      "\n",
      "  sns.countplot(x=a, palette=\"Set2\");\n"
     ]
    },
    {
     "data": {
      "image/png": "[encoded data removed]",
      "text/plain": [
       "<Figure size 640x480 with 1 Axes>"
      ]
     },
     "metadata": {},
     "output_type": "display_data"
    }
   ],
   "source": [
    "sns.countplot(x=a, palette=\"Set2\");"
   ]
  },
  {
   "cell_type": "code",
   "execution_count": 28,
   "id": "1cb063d7",
   "metadata": {},
   "outputs": [],
   "source": [
    "from scipy.stats import poisson"
   ]
  },
  {
   "cell_type": "code",
   "execution_count": 33,
   "id": "33a9f18f",
   "metadata": {},
   "outputs": [
    {
     "data": {
      "text/plain": [
       "'Probability of 7 people to arrive in the next 10 minutes: 4.25%'"
      ]
     },
     "execution_count": 33,
     "metadata": {},
     "output_type": "execute_result"
    }
   ],
   "source": [
    "mu = 3.6\n",
    "occurences = 7\n",
    "f\"Probability of 7 people to arrive in the next 10 minutes: {poisson.pmf(occurences, mu)*100:.2f}%\""
   ]
  },
  {
   "cell_type": "code",
   "execution_count": 36,
   "id": "f87397bb",
   "metadata": {},
   "outputs": [
    {
     "name": "stdout",
     "output_type": "stream",
     "text": [
      "Mean              : 3.60\n",
      "Variance          : 3.60\n",
      "Standard Deviation: 1.90\n"
     ]
    }
   ],
   "source": [
    "f\"Probability of 7 people to arrive in the next 10 minutes: {poisson.pmf(7, 3.6)*100:.2f}%\"\n",
    "print(\"Mean              : {:.2f}\".format(poisson.mean(mu)))\n",
    "print(\"Variance          : {:.2f}\".format(poisson.var(mu)))\n",
    "print(\"Standard Deviation: {:.2f}\".format(poisson.std(mu)))"
   ]
  }
 ],
 "metadata": {
  "kernelspec": {
   "display_name": "the-universe",
   "language": "python",
   "name": "python3"
  },
  "language_info": {
   "codemirror_mode": {
    "name": "ipython",
    "version": 3
   },
   "file_extension": ".py",
   "mimetype": "text/x-python",
   "name": "python",
   "nbconvert_exporter": "python",
   "pygments_lexer": "ipython3",
   "version": "3.10.12"
  }
 },
 "nbformat": 4,
 "nbformat_minor": 5
}
