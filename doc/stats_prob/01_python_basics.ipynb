{
 "cells": [
  {
   "cell_type": "code",
   "execution_count": 15,
   "id": "bb880b26",
   "metadata": {},
   "outputs": [
    {
     "name": "stdout",
     "output_type": "stream",
     "text": [
      "Numpy array: [1 2 3 4]\n",
      "Square root of 16: 4.0\n"
     ]
    }
   ],
   "source": [
    "# Importing libraries for numerical and mathematical operations\n",
    "import numpy as np  # numpy is used for arrays, matrices, and advanced math functions\n",
    "import math         # math provides basic mathematical functions like sqrt, sin, cos, etc.\n",
    "\n",
    "# Example: Using numpy to create an array\n",
    "array_example = np.array([1, 2, 3, 4])\n",
    "print('Numpy array:', array_example)\n",
    "\n",
    "# Example: Using math to calculate the square root\n",
    "sqrt_example = math.sqrt(16)\n",
    "print('Square root of 16:', sqrt_example)"
   ]
  },
  {
   "cell_type": "code",
   "execution_count": 16,
   "id": "419941d2",
   "metadata": {},
   "outputs": [
    {
     "name": "stdout",
     "output_type": "stream",
     "text": [
      "List after append and remove: [1, 3, 4, 12]\n",
      "List after insert: [1, 99, 3, 4, 12]\n",
      "First two elements: [1, 99]\n"
     ]
    }
   ],
   "source": [
    "# Lists: Mutable sequences for storing items\n",
    "this_is_my_list = [1, 2, 3, 4]  # Create a list with initial values\n",
    "this_is_my_list.append(12)       # Add an item to the end of the list\n",
    "this_is_my_list.remove(2)        # Remove the first occurrence of 2 from the list\n",
    "print('List after append and remove:', this_is_my_list)\n",
    "\n",
    "# Other list operations\n",
    "this_is_my_list.insert(1, 99)     # Insert 99 at index 1\n",
    "print('List after insert:', this_is_my_list)\n",
    "\n",
    "# You can also use slicing to access parts of a list\n",
    "print('First two elements:', this_is_my_list[:2])"
   ]
  },
  {
   "cell_type": "code",
   "execution_count": 17,
   "id": "b95f8014",
   "metadata": {},
   "outputs": [
    {
     "name": "stdout",
     "output_type": "stream",
     "text": [
      "Popped item: 12\n",
      "List after pop: [1, 99, 3, 4]\n",
      "Popped item at index 1: 99\n",
      "List after popping index 1: [1, 3, 4]\n"
     ]
    }
   ],
   "source": [
    "# Remove and return the last item from the list\n",
    "last_item = this_is_my_list.pop()\n",
    "print('Popped item:', last_item)\n",
    "print('List after pop:', this_is_my_list)\n",
    "\n",
    "# You can also pop from a specific index\n",
    "second_item = this_is_my_list.pop(1)\n",
    "print('Popped item at index 1:', second_item)\n",
    "print('List after popping index 1:', this_is_my_list)"
   ]
  },
  {
   "cell_type": "code",
   "execution_count": 18,
   "id": "b04554a2",
   "metadata": {},
   "outputs": [
    {
     "name": "stdout",
     "output_type": "stream",
     "text": [
      "Tuple: (1, 2, 3, 4)\n",
      "Element at index 2: 3\n",
      "Point coordinates: (10, 20)\n"
     ]
    }
   ],
   "source": [
    "# Tuples: Immutable sequences (cannot be changed after creation)\n",
    "this_is_my_tuple = (1, 2, 3, 4)\n",
    "print('Tuple:', this_is_my_tuple)\n",
    "\n",
    "# Accessing tuple elements\n",
    "print('Element at index 2:', this_is_my_tuple[2])\n",
    "\n",
    "# Tuples can be used for fixed collections, e.g., coordinates\n",
    "point = (10, 20)\n",
    "print('Point coordinates:', point)"
   ]
  },
  {
   "cell_type": "code",
   "execution_count": 19,
   "id": "c2f3198c",
   "metadata": {},
   "outputs": [
    {
     "name": "stdout",
     "output_type": "stream",
     "text": [
      "Third element of tuple: 3\n",
      "Unpacked values: 1 2 3 4\n"
     ]
    }
   ],
   "source": [
    "# Accessing elements in a tuple by index\n",
    "third_element = this_is_my_tuple[2]\n",
    "print('Third element of tuple:', third_element)\n",
    "\n",
    "# Unpacking tuples\n",
    "a, b, c, d = this_is_my_tuple\n",
    "print('Unpacked values:', a, b, c, d)"
   ]
  },
  {
   "cell_type": "code",
   "execution_count": 20,
   "id": "c1bbf7b4",
   "metadata": {},
   "outputs": [
    {
     "name": "stdout",
     "output_type": "stream",
     "text": [
      "Modified tuple: (1, 2, 99, 4)\n"
     ]
    }
   ],
   "source": [
    "# Tuples are immutable: you cannot change their elements after creation\n",
    "# this_is_my_tuple[2] = 1  # This will raise an error!\n",
    "\n",
    "# If you need to \"change\" a tuple, create a new one\n",
    "new_tuple = this_is_my_tuple[:2] + (99,) + this_is_my_tuple[3:]\n",
    "print('Modified tuple:', new_tuple)"
   ]
  },
  {
   "cell_type": "code",
   "execution_count": 21,
   "id": "454e4b1b",
   "metadata": {},
   "outputs": [
    {
     "name": "stdout",
     "output_type": "stream",
     "text": [
      "Initial dictionary: {'value_1': 1, 'value_2': 2, 'value_3': 'slkinho'}\n",
      "Value for key \"value_2\": 2\n",
      "Dictionary after adding new_key: {'value_1': 1, 'value_2': 2, 'value_3': 'slkinho', 'new_key': 42}\n"
     ]
    }
   ],
   "source": [
    "# Dictionaries: Key-value pairs for storing data\n",
    "dictionary = {\n",
    "    \"value_1\": 1,\n",
    "    \"value_2\": 2,\n",
    "    \"value_3\": \"slkinho\"\n",
    "}\n",
    "print('Initial dictionary:', dictionary)\n",
    "\n",
    "# Accessing values by key\n",
    "print('Value for key \"value_2\":', dictionary[\"value_2\"])\n",
    "\n",
    "# Adding a new key-value pair\n",
    "dictionary[\"new_key\"] = 42\n",
    "print('Dictionary after adding new_key:', dictionary)"
   ]
  },
  {
   "cell_type": "code",
   "execution_count": 22,
   "id": "8b97a8d5",
   "metadata": {},
   "outputs": [
    {
     "name": "stdout",
     "output_type": "stream",
     "text": [
      "Dictionary after deleting value_3: {'value_1': 1, 'value_2': 2, 'new_key': 42}\n",
      "Trying to remove a non-existent key returns: None\n"
     ]
    }
   ],
   "source": [
    "# Deleting a key from the dictionary\n",
    "del dictionary[\"value_3\"]\n",
    "print('Dictionary after deleting value_3:', dictionary)\n",
    "\n",
    "# Safe deletion using pop with default value\n",
    "removed_value = dictionary.pop(\"non_existent_key\", None)\n",
    "print('Trying to remove a non-existent key returns:', removed_value)"
   ]
  },
  {
   "cell_type": "code",
   "execution_count": 23,
   "id": "63603207",
   "metadata": {},
   "outputs": [
    {
     "name": "stdout",
     "output_type": "stream",
     "text": [
      "Current dictionary: {'value_1': 1, 'value_2': 2, 'new_key': 42}\n",
      "Key: value_1, Value: 1\n",
      "Key: value_2, Value: 2\n",
      "Key: new_key, Value: 42\n"
     ]
    }
   ],
   "source": [
    "# Printing the dictionary\n",
    "print('Current dictionary:', dictionary)\n",
    "\n",
    "# Iterating over keys and values\n",
    "for key, value in dictionary.items():\n",
    "    print(f'Key: {key}, Value: {value}')"
   ]
  },
  {
   "cell_type": "code",
   "execution_count": 24,
   "id": "0c6bb987",
   "metadata": {},
   "outputs": [
    {
     "name": "stdout",
     "output_type": "stream",
     "text": [
      "Dictionary after adding new_value: {'value_1': 1, 'value_2': 2, 'new_key': 42, 'new_value': 1111}\n",
      "Dictionary after update: {'value_1': 100, 'value_2': 2, 'new_key': 42, 'new_value': 2222}\n"
     ]
    }
   ],
   "source": [
    "# Adding or updating a key-value pair\n",
    "dictionary[\"new_value\"] = 1111\n",
    "print('Dictionary after adding new_value:', dictionary)\n",
    "\n",
    "# Updating multiple values at once\n",
    "dictionary.update({\"value_1\": 100, \"new_value\": 2222})\n",
    "print('Dictionary after update:', dictionary)"
   ]
  },
  {
   "cell_type": "code",
   "execution_count": 25,
   "id": "936c9a06",
   "metadata": {},
   "outputs": [
    {
     "name": "stdout",
     "output_type": "stream",
     "text": [
      "Final dictionary: {'value_1': 100, 'value_2': 2, 'new_key': 42, 'new_value': 2222}\n",
      "Keys: ['value_1', 'value_2', 'new_key', 'new_value']\n",
      "Values: [100, 2, 42, 2222]\n"
     ]
    }
   ],
   "source": [
    "# Printing the dictionary after updates\n",
    "print('Final dictionary:', dictionary)\n",
    "\n",
    "# Getting all keys and values as lists\n",
    "keys = list(dictionary.keys())\n",
    "values = list(dictionary.values())\n",
    "print('Keys:', keys)\n",
    "print('Values:', values)"
   ]
  },
  {
   "cell_type": "code",
   "execution_count": 27,
   "id": "51a38332",
   "metadata": {},
   "outputs": [],
   "source": [
    "comprehension_list = [ 1, 2, 3, 4, 5, 6, 7, 8, 9]"
   ]
  },
  {
   "cell_type": "code",
   "execution_count": 38,
   "id": "5aaeed2c",
   "metadata": {},
   "outputs": [
    {
     "data": {
      "text/plain": [
       "[4, 16, 36, 64]"
      ]
     },
     "execution_count": 38,
     "metadata": {},
     "output_type": "execute_result"
    }
   ],
   "source": [
    "new_list = [number ** 2 for number in comprehension_list if number % 2 == 0]\n",
    "new_list"
   ]
  },
  {
   "cell_type": "code",
   "execution_count": null,
   "id": "6b9067af",
   "metadata": {},
   "outputs": [],
   "source": []
  }
 ],
 "metadata": {
  "kernelspec": {
   "display_name": "theincrediblefactory",
   "language": "python",
   "name": "python3"
  },
  "language_info": {
   "codemirror_mode": {
    "name": "ipython",
    "version": 3
   },
   "file_extension": ".py",
   "mimetype": "text/x-python",
   "name": "python",
   "nbconvert_exporter": "python",
   "pygments_lexer": "ipython3",
   "version": "3.10.12"
  }
 },
 "nbformat": 4,
 "nbformat_minor": 5
}
