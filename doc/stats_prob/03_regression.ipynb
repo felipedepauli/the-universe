{
 "cells": [
  {
   "cell_type": "markdown",
   "id": "81d1fa0f",
   "metadata": {},
   "source": [
    "![Regression Analysis](./03_regression.png)\n",
    "![Regression Analysis](./03_regression_2.png)"
   ]
  },
  {
   "cell_type": "markdown",
   "id": "5bfa736f",
   "metadata": {},
   "source": []
  }
 ],
 "metadata": {
  "language_info": {
   "name": "python"
  }
 },
 "nbformat": 4,
 "nbformat_minor": 5
}
